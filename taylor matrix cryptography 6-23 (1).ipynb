{
 "cells": [
  {
   "cell_type": "code",
   "execution_count": 29,
   "id": "a0c14d9a",
   "metadata": {},
   "outputs": [
    {
     "data": {
      "text/plain": [
       "5×5 Matrix{Int64}:\n",
       " 15   2  20  20  34\n",
       "  3   3  18   8  15\n",
       " 25   0   4  22  15\n",
       "  0  15   0   0   0\n",
       "  0   0   0   0   0"
      ]
     },
     "execution_count": 29,
     "metadata": {},
     "output_type": "execute_result"
    }
   ],
   "source": [
    "#ciphermatirx\n",
    "B= [15 2 20 20 34; 3 3 18 8 15;25 0 4 22 15; 0 15 0 0 0; 0 0 0 0 0]"
   ]
  },
  {
   "cell_type": "code",
   "execution_count": 30,
   "id": "f72de327",
   "metadata": {},
   "outputs": [
    {
     "data": {
      "text/plain": [
       "5×5 Matrix{Int64}:\n",
       "  2   8   9  45  32\n",
       "  2   4   6  76  23\n",
       " 32  43  76  85  34\n",
       " 54  12  65  32  54\n",
       "  8   4  21  43   6"
      ]
     },
     "execution_count": 30,
     "metadata": {},
     "output_type": "execute_result"
    }
   ],
   "source": [
    "A = [2 8 9 45 32; 2 4 6 76 23; 32 43 76 85 34; 54 12 65 32 54; 8 4 21 43 6]"
   ]
  },
  {
   "cell_type": "code",
   "execution_count": 31,
   "id": "b7beef2d",
   "metadata": {},
   "outputs": [
    {
     "data": {
      "text/plain": [
       "5×5 Matrix{Int64}:\n",
       "  279   703   220   302   323\n",
       "  192  1156   136   204   218\n",
       " 2509  1468  1718  2656  2873\n",
       " 2471   624  1556  2606  2991\n",
       "  657   673   316   654   647"
      ]
     },
     "execution_count": 31,
     "metadata": {},
     "output_type": "execute_result"
    }
   ],
   "source": [
    "#scrambled matrix\n",
    "C=A*B"
   ]
  },
  {
   "cell_type": "code",
   "execution_count": null,
   "id": "1cf28ec6",
   "metadata": {},
   "outputs": [],
   "source": []
  },
  {
   "cell_type": "code",
   "execution_count": 32,
   "id": "128a6740",
   "metadata": {},
   "outputs": [
    {
     "data": {
      "text/plain": [
       "5×5 Matrix{Float64}:\n",
       " -0.121005    0.112003    0.015817     0.0277354   -0.123232\n",
       " -0.0499485   0.0559064   0.040384    -0.00610357  -0.121826\n",
       "  0.07338    -0.0921103  -0.013741    -0.00891179   0.119801\n",
       " -0.0161191   0.0227151   0.00126749  -0.00069772  -0.00200936\n",
       "  0.0533292  -0.0270139  -0.00900231   0.00328004   0.00729018"
      ]
     },
     "execution_count": 32,
     "metadata": {},
     "output_type": "execute_result"
    }
   ],
   "source": [
    "#descarmbled matrix\n",
    "Ainv= inv(A)"
   ]
  },
  {
   "cell_type": "code",
   "execution_count": 35,
   "id": "469b5117",
   "metadata": {},
   "outputs": [
    {
     "data": {
      "text/plain": [
       "5×5 Matrix{Float64}:\n",
       " 15.0           2.0          20.0          20.0          34.0\n",
       "  3.0           3.0          18.0           8.0          15.0\n",
       " 25.0           0.0           4.0          22.0          15.0\n",
       " -4.44089e-16  15.0           2.22045e-16   2.22045e-16   0.0\n",
       "  8.88178e-16   2.66454e-15  -1.33227e-15   8.88178e-16   0.0"
      ]
     },
     "execution_count": 35,
     "metadata": {},
     "output_type": "execute_result"
    }
   ],
   "source": [
    "Ainv*C"
   ]
  },
  {
   "cell_type": "code",
   "execution_count": null,
   "id": "2368061d",
   "metadata": {},
   "outputs": [],
   "source": [
    "#letter key\n",
    "[A=2, B=34, C=45, D=8, E=25, F=3, G=1, H=89, I=20, J=6, K=22, L=71,  M=9,  N=12,  O=96,  P=57,  Q=65,  R=43,  S=15, T=3,  U=13,  V=90,  W=47,  X=68,  Y=18,  Z=54]"
   ]
  },
  {
   "cell_type": "code",
   "execution_count": null,
   "id": "4ef8d340",
   "metadata": {},
   "outputs": [],
   "source": [
    "#code is: stray kids is best"
   ]
  }
 ],
 "metadata": {
  "kernelspec": {
   "display_name": "Julia 1.7.3",
   "language": "julia",
   "name": "julia-1.7"
  },
  "language_info": {
   "file_extension": ".jl",
   "mimetype": "application/julia",
   "name": "julia",
   "version": "1.7.3"
  }
 },
 "nbformat": 4,
 "nbformat_minor": 5
}
